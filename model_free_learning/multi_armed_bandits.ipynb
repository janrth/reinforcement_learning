{
 "cells": [
  {
   "cell_type": "code",
   "execution_count": 1,
   "id": "40edbe81",
   "metadata": {},
   "outputs": [],
   "source": [
    "import gym_bandits\n",
    "import gym\n",
    "import numpy as np\n",
    "\n",
    "from models import multi_armed_bandits"
   ]
  },
  {
   "cell_type": "code",
   "execution_count": 3,
   "id": "ec05e3e3",
   "metadata": {},
   "outputs": [],
   "source": [
    "# Instantiate class:\n",
    "env = gym.make(\"BanditTwoArmedHighLowFixed-v0\")\n",
    "\n",
    "mab = multi_armed_bandits.MultiArmedBandit(num_rounds=100,\n",
    "                                           env=env)"
   ]
  },
  {
   "cell_type": "markdown",
   "id": "673d3912",
   "metadata": {},
   "source": [
    "### Epsilon Greedy"
   ]
  },
  {
   "cell_type": "code",
   "execution_count": 3,
   "id": "74b984c2",
   "metadata": {},
   "outputs": [
    {
     "name": "stderr",
     "output_type": "stream",
     "text": [
      "/Users/janrathfelder/miniconda3/envs/gym/lib/python3.8/site-packages/gym/utils/passive_env_checker.py:174: UserWarning: \u001b[33mWARN: Future gym versions will require that `Env.reset` can be passed a `seed` instead of using `Env.seed` for resetting the environment random number generator.\u001b[0m\n",
      "  logger.warn(\n",
      "/Users/janrathfelder/miniconda3/envs/gym/lib/python3.8/site-packages/gym/utils/passive_env_checker.py:187: UserWarning: \u001b[33mWARN: Future gym versions will require that `Env.reset` can be passed `options` to allow the environment initialisation to be passed additional information.\u001b[0m\n",
      "  logger.warn(\n",
      "/Users/janrathfelder/miniconda3/envs/gym/lib/python3.8/site-packages/gym/utils/passive_env_checker.py:195: UserWarning: \u001b[33mWARN: The result returned by `env.reset()` was not a tuple of the form `(obs, info)`, where `obs` is a observation and `info` is a dictionary containing additional information. Actual type: `<class 'int'>`\u001b[0m\n",
      "  logger.warn(\n",
      "/Users/janrathfelder/miniconda3/envs/gym/lib/python3.8/site-packages/gym/utils/passive_env_checker.py:219: DeprecationWarning: \u001b[33mWARN: Core environment is written in old step API which returns one bool instead of two. It is recommended to rewrite the environment with new step API. \u001b[0m\n",
      "  logger.deprecation(\n"
     ]
    },
    {
     "data": {
      "text/plain": [
       "array([0.81944444, 0.17857143])"
      ]
     },
     "metadata": {},
     "output_type": "display_data"
    }
   ],
   "source": [
    "env = gym.make(\"BanditTwoArmedHighLowFixed-v0\")\n",
    "\n",
    "env.reset()\n",
    "\n",
    "Q = mab.run_epsilon_greedy_learning(epsilon=.5)\n",
    "display(Q)"
   ]
  },
  {
   "cell_type": "markdown",
   "id": "3a06f647",
   "metadata": {},
   "source": [
    "### Softmax"
   ]
  },
  {
   "cell_type": "code",
   "execution_count": 4,
   "id": "dc2d8439",
   "metadata": {},
   "outputs": [],
   "source": [
    "env = gym.make(\"BanditTwoArmedHighLowFixed-v0\")"
   ]
  },
  {
   "cell_type": "code",
   "execution_count": 5,
   "id": "065d5f8f",
   "metadata": {},
   "outputs": [
    {
     "data": {
      "text/plain": [
       "array([0.71186441, 0.12195122])"
      ]
     },
     "metadata": {},
     "output_type": "display_data"
    }
   ],
   "source": [
    "Q = mab.run_softmax_learning(T=50)\n",
    "display(Q)"
   ]
  },
  {
   "cell_type": "markdown",
   "id": "78d2b1e4",
   "metadata": {},
   "source": [
    "### UCB"
   ]
  },
  {
   "cell_type": "code",
   "execution_count": 6,
   "id": "ce967084",
   "metadata": {},
   "outputs": [],
   "source": [
    "env = gym.make(\"BanditTwoArmedHighLowFixed-v0\")"
   ]
  },
  {
   "cell_type": "code",
   "execution_count": 7,
   "id": "bfd26c32",
   "metadata": {},
   "outputs": [
    {
     "data": {
      "text/plain": [
       "array([0.8, 0.1])"
      ]
     },
     "metadata": {},
     "output_type": "display_data"
    }
   ],
   "source": [
    "Q = mab.run_ucb()\n",
    "display(Q)"
   ]
  },
  {
   "cell_type": "markdown",
   "id": "5bd53d27",
   "metadata": {},
   "source": [
    "### Thompson Sampling"
   ]
  },
  {
   "cell_type": "code",
   "execution_count": 89,
   "id": "65759010",
   "metadata": {},
   "outputs": [],
   "source": [
    "env = gym.make(\"BanditTwoArmedHighLowFixed-v0\")"
   ]
  },
  {
   "cell_type": "code",
   "execution_count": 9,
   "id": "890f335a",
   "metadata": {},
   "outputs": [
    {
     "data": {
      "text/plain": [
       "array([0.84042553, 0.33333333])"
      ]
     },
     "metadata": {},
     "output_type": "display_data"
    }
   ],
   "source": [
    "Q = mab.run_thompson_learning()\n",
    "display(Q)"
   ]
  }
 ],
 "metadata": {
  "kernelspec": {
   "display_name": "Python 3 (ipykernel)",
   "language": "python",
   "name": "python3"
  },
  "language_info": {
   "codemirror_mode": {
    "name": "ipython",
    "version": 3
   },
   "file_extension": ".py",
   "mimetype": "text/x-python",
   "name": "python",
   "nbconvert_exporter": "python",
   "pygments_lexer": "ipython3",
   "version": "3.8.16"
  }
 },
 "nbformat": 4,
 "nbformat_minor": 5
}
