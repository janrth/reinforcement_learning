{
 "cells": [
  {
   "cell_type": "code",
   "execution_count": 2,
   "id": "00676c52",
   "metadata": {},
   "outputs": [],
   "source": [
    "import gym\n",
    "\n",
    "# import custom library\n",
    "import on_policy_monte_carlo_method"
   ]
  },
  {
   "cell_type": "code",
   "execution_count": 9,
   "id": "eef425dc",
   "metadata": {},
   "outputs": [],
   "source": [
    "# instantiate mc predictor:\n",
    "\n",
    "env = gym.make('Blackjack-v1')\n",
    "\n",
    "mc = on_policy_monte_carlo_method.OnPolicyMonteCarloPrediction(env=env,\n",
    "                                            num_timesteps=100,\n",
    "                                            num_iterations=300000)"
   ]
  },
  {
   "cell_type": "code",
   "execution_count": 10,
   "id": "b2a063dd",
   "metadata": {},
   "outputs": [
    {
     "data": {
      "text/html": [
       "<div>\n",
       "<style scoped>\n",
       "    .dataframe tbody tr th:only-of-type {\n",
       "        vertical-align: middle;\n",
       "    }\n",
       "\n",
       "    .dataframe tbody tr th {\n",
       "        vertical-align: top;\n",
       "    }\n",
       "\n",
       "    .dataframe thead th {\n",
       "        text-align: right;\n",
       "    }\n",
       "</style>\n",
       "<table border=\"1\" class=\"dataframe\">\n",
       "  <thead>\n",
       "    <tr style=\"text-align: right;\">\n",
       "      <th></th>\n",
       "      <th>state_action_pair</th>\n",
       "      <th>value</th>\n",
       "    </tr>\n",
       "  </thead>\n",
       "  <tbody>\n",
       "    <tr>\n",
       "      <th>0</th>\n",
       "      <td>((14, 10, False), 0)</td>\n",
       "      <td>-0.564287</td>\n",
       "    </tr>\n",
       "    <tr>\n",
       "      <th>1</th>\n",
       "      <td>((14, 10, False), 1)</td>\n",
       "      <td>-0.582430</td>\n",
       "    </tr>\n",
       "    <tr>\n",
       "      <th>2</th>\n",
       "      <td>((21, 10, True), 0)</td>\n",
       "      <td>0.914175</td>\n",
       "    </tr>\n",
       "    <tr>\n",
       "      <th>3</th>\n",
       "      <td>((21, 10, True), 1)</td>\n",
       "      <td>-0.169636</td>\n",
       "    </tr>\n",
       "  </tbody>\n",
       "</table>\n",
       "</div>"
      ],
      "text/plain": [
       "      state_action_pair     value\n",
       "0  ((14, 10, False), 0) -0.564287\n",
       "1  ((14, 10, False), 1) -0.582430\n",
       "2   ((21, 10, True), 0)  0.914175\n",
       "3   ((21, 10, True), 1) -0.169636"
      ]
     },
     "execution_count": 10,
     "metadata": {},
     "output_type": "execute_result"
    }
   ],
   "source": [
    "# return df with saved results:\n",
    "\n",
    "df = mc.optimal_policy_identification()\n",
    "\n",
    "df.head(4)"
   ]
  },
  {
   "cell_type": "code",
   "execution_count": null,
   "id": "cd2060c3",
   "metadata": {},
   "outputs": [],
   "source": []
  }
 ],
 "metadata": {
  "kernelspec": {
   "display_name": "Python 3",
   "language": "python",
   "name": "python3"
  },
  "language_info": {
   "codemirror_mode": {
    "name": "ipython",
    "version": 3
   },
   "file_extension": ".py",
   "mimetype": "text/x-python",
   "name": "python",
   "nbconvert_exporter": "python",
   "pygments_lexer": "ipython3",
   "version": "3.7.13"
  }
 },
 "nbformat": 4,
 "nbformat_minor": 5
}
