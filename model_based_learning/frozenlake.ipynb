{
 "cells": [
  {
   "cell_type": "code",
   "execution_count": 1,
   "id": "35630f78",
   "metadata": {},
   "outputs": [
    {
     "name": "stdout",
     "output_type": "stream",
     "text": [
      "3.7.13 (default, Mar 28 2022, 07:24:34) \n",
      "[Clang 12.0.0 ]\n",
      "0.26.2\n",
      "1.21.5\n"
     ]
    }
   ],
   "source": [
    "import gym\n",
    "import sys\n",
    "import numpy as np\n",
    "import model_based_learning_value_iteration\n",
    "import model_based_learning_policy_iteration\n",
    "\n",
    "####################\n",
    "print(sys.version)\n",
    "print(gym.__version__)\n",
    "print(np.__version__)"
   ]
  },
  {
   "cell_type": "markdown",
   "id": "8eba641d",
   "metadata": {},
   "source": [
    "### Solving FrozenLake with Value Iteration"
   ]
  },
  {
   "cell_type": "code",
   "execution_count": 2,
   "id": "df0dc98b",
   "metadata": {},
   "outputs": [
    {
     "data": {
      "text/plain": [
       "array([0., 3., 3., 3., 0., 0., 0., 0., 3., 1., 0., 0., 0., 2., 1., 0.])"
      ]
     },
     "metadata": {},
     "output_type": "display_data"
    }
   ],
   "source": [
    "import gym\n",
    "env = gym.make(\"FrozenLake-v1\", \n",
    "               #render_mode='human'\n",
    "              )\n",
    "env.reset()\n",
    "\n",
    "v = model_based_learning_value_iteration.ValueIteration(env=env,\n",
    "                                         threshold=1e-20,\n",
    "                                         num_iterations=5000,\n",
    "                                         gamma=1)\n",
    "\n",
    "optimal_value_function = v.value_iteration()\n",
    "optimal_policy = v.extract_policy(optimal_value_function)\n",
    "\n",
    "display(optimal_policy)"
   ]
  },
  {
   "cell_type": "markdown",
   "id": "8cd6e921",
   "metadata": {},
   "source": [
    "### Solving FrozenLake with Policy Iteration"
   ]
  },
  {
   "cell_type": "code",
   "execution_count": 3,
   "id": "70565a94",
   "metadata": {},
   "outputs": [
    {
     "data": {
      "text/plain": [
       "array([0., 3., 3., 3., 0., 0., 0., 0., 3., 1., 0., 0., 0., 2., 1., 0.])"
      ]
     },
     "metadata": {},
     "output_type": "display_data"
    }
   ],
   "source": [
    "import gym\n",
    "env = gym.make(\"FrozenLake-v1\", \n",
    "               #render_mode='human'\n",
    "              )\n",
    "env.reset()\n",
    "\n",
    "pol = model_based_learning_policy_iteration.PolicyIteration(env=env,\n",
    "                                                           num_iterations=5000,\n",
    "                                                           threshold=1e-20,\n",
    "                                                           gamma=1)\n",
    "                                         \n",
    "\n",
    "optimal_policy = pol.policy_iteration()\n",
    "\n",
    "display(optimal_policy)"
   ]
  },
  {
   "cell_type": "code",
   "execution_count": null,
   "id": "767b2ad1",
   "metadata": {},
   "outputs": [],
   "source": []
  }
 ],
 "metadata": {
  "kernelspec": {
   "display_name": "Python 3",
   "language": "python",
   "name": "python3"
  },
  "language_info": {
   "codemirror_mode": {
    "name": "ipython",
    "version": 3
   },
   "file_extension": ".py",
   "mimetype": "text/x-python",
   "name": "python",
   "nbconvert_exporter": "python",
   "pygments_lexer": "ipython3",
   "version": "3.7.13"
  }
 },
 "nbformat": 4,
 "nbformat_minor": 5
}
