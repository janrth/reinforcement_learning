{
 "cells": [
  {
   "cell_type": "code",
   "execution_count": 1,
   "id": "35630f78",
   "metadata": {},
   "outputs": [
    {
     "name": "stdout",
     "output_type": "stream",
     "text": [
      "3.7.13 (default, Mar 28 2022, 07:24:34) \n",
      "[Clang 12.0.0 ]\n",
      "0.26.2\n",
      "1.21.5\n"
     ]
    }
   ],
   "source": [
    "import gym\n",
    "import sys\n",
    "import numpy as np\n",
    "import model_based_learning_value_iteration\n",
    "import model_based_learning_policy_iteration\n",
    "\n",
    "####################\n",
    "print(sys.version)\n",
    "print(gym.__version__)\n",
    "print(np.__version__)"
   ]
  },
  {
   "cell_type": "markdown",
   "id": "8eba641d",
   "metadata": {},
   "source": [
    "### Solving FrozenLake with Value Iteration"
   ]
  },
  {
   "cell_type": "code",
   "execution_count": 2,
   "id": "df0dc98b",
   "metadata": {},
   "outputs": [
    {
     "ename": "TypeError",
     "evalue": "__init__() missing 1 required positional argument: 'gamma'",
     "output_type": "error",
     "traceback": [
      "\u001b[0;31m---------------------------------------------------------------------------\u001b[0m",
      "\u001b[0;31mTypeError\u001b[0m                                 Traceback (most recent call last)",
      "\u001b[0;32m/var/folders/nk/kvcs64mn4nbfqfw1ff_czjn80000gn/T/ipykernel_27194/1607753760.py\u001b[0m in \u001b[0;36m<module>\u001b[0;34m\u001b[0m\n\u001b[1;32m      7\u001b[0m v = model_based_learning_value_iteration.ValueIteration(env=env,\n\u001b[1;32m      8\u001b[0m                                          \u001b[0mthreshold\u001b[0m\u001b[0;34m=\u001b[0m\u001b[0;36m1e-20\u001b[0m\u001b[0;34m,\u001b[0m\u001b[0;34m\u001b[0m\u001b[0;34m\u001b[0m\u001b[0m\n\u001b[0;32m----> 9\u001b[0;31m                                          num_iterations=5000)\n\u001b[0m\u001b[1;32m     10\u001b[0m \u001b[0;34m\u001b[0m\u001b[0m\n\u001b[1;32m     11\u001b[0m \u001b[0moptimal_value_function\u001b[0m \u001b[0;34m=\u001b[0m \u001b[0mv\u001b[0m\u001b[0;34m.\u001b[0m\u001b[0mvalue_iteration\u001b[0m\u001b[0;34m(\u001b[0m\u001b[0;34m)\u001b[0m\u001b[0;34m\u001b[0m\u001b[0;34m\u001b[0m\u001b[0m\n",
      "\u001b[0;31mTypeError\u001b[0m: __init__() missing 1 required positional argument: 'gamma'"
     ]
    }
   ],
   "source": [
    "import gym\n",
    "env = gym.make(\"FrozenLake-v1\", \n",
    "               #render_mode='human'\n",
    "              )\n",
    "env.reset()\n",
    "\n",
    "v = model_based_learning_value_iteration.ValueIteration(env=env,\n",
    "                                         threshold=1e-20,\n",
    "                                         num_iterations=5000)\n",
    "\n",
    "optimal_value_function = v.value_iteration()\n",
    "optimal_policy = v.extract_policy(optimal_value_function)\n",
    "\n",
    "display(optimal_policy)"
   ]
  },
  {
   "cell_type": "markdown",
   "id": "8cd6e921",
   "metadata": {},
   "source": [
    "### Solving FrozenLake with Policy Iteration"
   ]
  },
  {
   "cell_type": "code",
   "execution_count": 10,
   "id": "70565a94",
   "metadata": {},
   "outputs": [
    {
     "data": {
      "text/plain": [
       "array([0., 3., 3., 3., 0., 0., 0., 0., 3., 1., 0., 0., 0., 2., 1., 0.])"
      ]
     },
     "metadata": {},
     "output_type": "display_data"
    }
   ],
   "source": [
    "import gym\n",
    "env = gym.make(\"FrozenLake-v1\", \n",
    "               #render_mode='human'\n",
    "              )\n",
    "env.reset()\n",
    "\n",
    "pol = model_based_learning_policy_iteration.PolicyIteration(env=env,\n",
    "                                                           num_iterations=5000,\n",
    "                                                           threshold=1e-20)\n",
    "                                         \n",
    "\n",
    "optimal_policy = pol.policy_iteration()\n",
    "\n",
    "display(optimal_policy)"
   ]
  },
  {
   "cell_type": "code",
   "execution_count": null,
   "id": "767b2ad1",
   "metadata": {},
   "outputs": [],
   "source": []
  }
 ],
 "metadata": {
  "kernelspec": {
   "display_name": "Python 3",
   "language": "python",
   "name": "python3"
  },
  "language_info": {
   "codemirror_mode": {
    "name": "ipython",
    "version": 3
   },
   "file_extension": ".py",
   "mimetype": "text/x-python",
   "name": "python",
   "nbconvert_exporter": "python",
   "pygments_lexer": "ipython3",
   "version": "3.7.13"
  }
 },
 "nbformat": 4,
 "nbformat_minor": 5
}
